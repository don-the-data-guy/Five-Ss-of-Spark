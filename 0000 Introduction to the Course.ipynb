{
 "cells": [
  {
   "cell_type": "code",
   "execution_count": 0,
   "metadata": {
    "application/vnd.databricks.v1+cell": {
     "cellMetadata": {
      "byteLimit": 2048000,
      "rowLimit": 10000
     },
     "inputWidgets": {},
     "nuid": "6f795b17-4595-45da-9329-d66a82c53a97",
     "showTitle": false,
     "title": ""
    }
   },
   "outputs": [
    {
     "output_type": "stream",
     "name": "stdout",
     "output_type": "stream",
     "text": [
      "_SUCCESS\n_committed_6241970109963426653\n_started_6241970109963426653\npart-00000-tid-6241970109963426653-cd9cd6ee-cb10-4da2-82b3-ea25a8369cbf-0-c000.gz.parquet\npart-00001-tid-6241970109963426653-cd9cd6ee-cb10-4da2-82b3-ea25a8369cbf-0-c000.gz.parquet\npart-00002-tid-6241970109963426653-cd9cd6ee-cb10-4da2-82b3-ea25a8369cbf-0-c000.gz.parquet\npart-00003-tid-6241970109963426653-cd9cd6ee-cb10-4da2-82b3-ea25a8369cbf-0-c000.gz.parquet\npart-00004-tid-6241970109963426653-cd9cd6ee-cb10-4da2-82b3-ea25a8369cbf-0-c000.gz.parquet\npart-00005-tid-6241970109963426653-cd9cd6ee-cb10-4da2-82b3-ea25a8369cbf-0-c000.gz.parquet\npart-00006-tid-6241970109963426653-cd9cd6ee-cb10-4da2-82b3-ea25a8369cbf-0-c000.gz.parquet\npart-00007-tid-6241970109963426653-cd9cd6ee-cb10-4da2-82b3-ea25a8369cbf-0-c000.gz.parquet\n"
     ]
    },
    {
     "output_type": "execute_result",
     "data": {
      "text/plain": [
       "[None, None, None, None, None, None, None, None, None, None, None]"
      ]
     },
     "execution_count": 1,
     "metadata": {},
     "output_type": "execute_result"
    }
   ],
   "source": [
    "sc.setJobDescription(\"Step A: Basic Initialization\")\n",
    "\n",
    "dataSourcePath = \"wasbs://spark-ui-simulator@dbacademy.blob.core.windows.net/wikipedia/pagecounts/staging_parquet_en_only_clean\"\n",
    "\n",
    "[print(f.name) for f in dbutils.fs.ls(dataSourcePath)]"
   ]
  },
  {
   "cell_type": "code",
   "execution_count": 0,
   "metadata": {
    "application/vnd.databricks.v1+cell": {
     "cellMetadata": {
      "byteLimit": 2048000,
      "rowLimit": 10000
     },
     "inputWidgets": {},
     "nuid": "4fe57f53-1a36-4abc-a428-306379393204",
     "showTitle": false,
     "title": ""
    }
   },
   "outputs": [],
   "source": [
    "sc.setJobDescription(\"Step B: Read & Cache Page-Counts\")\n",
    "\n",
    "pagecounts_path = \"wasbs://spark-ui-simulator@dbacademy.blob.core.windows.net/wikipedia/pagecounts/staging_parquet_en_only_clean\"\n",
    "\n",
    "initialDF = (spark\n",
    "  .read\n",
    "  .parquet(pagecounts_path)\n",
    "  .cache()\n",
    ")\n",
    "\n",
    "# A do-nothing operation that simply materializes the cache\n",
    "initialDF.write.format(\"noop\").mode(\"overwrite\").save()"
   ]
  },
  {
   "cell_type": "code",
   "execution_count": 0,
   "metadata": {
    "application/vnd.databricks.v1+cell": {
     "cellMetadata": {
      "byteLimit": 2048000,
      "rowLimit": 10000
     },
     "inputWidgets": {},
     "nuid": "0d50445d-e604-4497-bd89-d3505f51d5c2",
     "showTitle": false,
     "title": ""
    }
   },
   "outputs": [
    {
     "output_type": "display_data",
     "data": {
      "text/html": [
       "<style scoped>\n",
       "  .ansiout {\n",
       "    display: block;\n",
       "    unicode-bidi: embed;\n",
       "    white-space: pre-wrap;\n",
       "    word-wrap: break-word;\n",
       "    word-break: break-all;\n",
       "    font-family: \"Menlo\", \"Monaco\", \"Consolas\", \"Ubuntu Mono\", \"Source Code Pro\", monospace;\n",
       "    font-size: 13px;\n",
       "    color: #555;\n",
       "    margin-left: 4px;\n",
       "    line-height: 19px;\n",
       "  }\n",
       "</style>"
      ]
     },
     "metadata": {
      "application/vnd.databricks.v1+output": {
       "arguments": {},
       "data": "",
       "errorSummary": "",
       "errorTraceType": null,
       "metadata": {},
       "type": "ipynbError"
      }
     },
     "output_type": "display_data"
    }
   ],
   "source": [
    "sc.setJobDescription(\"Step C: Random Transformations\")\n",
    "\n",
    "from pyspark.sql.functions import col, upper\n",
    "\n",
    "someDF = (initialDF\n",
    "  .withColumn(\"first\", upper(col(\"article\").substr(0,1)) )\n",
    "  .where( col(\"first\").isin(\"A\",\"B\",\"C\",\"D\",\"E\",\"F\",\"G\",\"H\",\"I\",\"J\",\"K\",\"L\",\"M\",\"N\",\"O\",\"P\",\"Q\",\"R\",\"S\",\"T\",\"U\",\"V\",\"W\",\"X\",\"Y\",\"Z\") )\n",
    "  .groupBy(col(\"project\"), col(\"first\")).sum()\n",
    "  .drop(\"sum(bytes_served)\")\n",
    "  .orderBy(col(\"first\"), col(\"project\"))\n",
    "  .select(col(\"first\"), col(\"project\"), col(\"sum(requests)\").alias(\"total\"))\n",
    "  .filter(col(\"total\") > 10000)\n",
    ")\n",
    "total = someDF.count()"
   ]
  },
  {
   "cell_type": "code",
   "execution_count": 0,
   "metadata": {
    "application/vnd.databricks.v1+cell": {
     "cellMetadata": {
      "byteLimit": 2048000,
      "rowLimit": 10000
     },
     "inputWidgets": {},
     "nuid": "e51d42c9-4de4-44ca-adf4-28e8c86ac7a5",
     "showTitle": false,
     "title": ""
    }
   },
   "outputs": [
    {
     "output_type": "display_data",
     "data": {
      "text/html": [
       "<style scoped>\n",
       "  .ansiout {\n",
       "    display: block;\n",
       "    unicode-bidi: embed;\n",
       "    white-space: pre-wrap;\n",
       "    word-wrap: break-word;\n",
       "    word-break: break-all;\n",
       "    font-family: \"Menlo\", \"Monaco\", \"Consolas\", \"Ubuntu Mono\", \"Source Code Pro\", monospace;\n",
       "    font-size: 13px;\n",
       "    color: #555;\n",
       "    margin-left: 4px;\n",
       "    line-height: 19px;\n",
       "  }\n",
       "</style>"
      ]
     },
     "metadata": {
      "application/vnd.databricks.v1+output": {
       "arguments": {},
       "data": "",
       "errorSummary": "",
       "errorTraceType": null,
       "metadata": {},
       "type": "ipynbError"
      }
     },
     "output_type": "display_data"
    }
   ],
   "source": [
    "sc.setJobDescription(\"Step D: Take N records\")\n",
    "\n",
    "all = someDF.take(total)"
   ]
  },
  {
   "cell_type": "code",
   "execution_count": 0,
   "metadata": {
    "application/vnd.databricks.v1+cell": {
     "cellMetadata": {
      "byteLimit": 2048000,
      "rowLimit": 10000
     },
     "inputWidgets": {},
     "nuid": "68bfce32-b30d-4fc7-b1fd-5dc95b32115b",
     "showTitle": false,
     "title": ""
    }
   },
   "outputs": [
    {
     "output_type": "display_data",
     "data": {
      "text/html": [
       "<style scoped>\n",
       "  .ansiout {\n",
       "    display: block;\n",
       "    unicode-bidi: embed;\n",
       "    white-space: pre-wrap;\n",
       "    word-wrap: break-word;\n",
       "    word-break: break-all;\n",
       "    font-family: \"Menlo\", \"Monaco\", \"Consolas\", \"Ubuntu Mono\", \"Source Code Pro\", monospace;\n",
       "    font-size: 13px;\n",
       "    color: #555;\n",
       "    margin-left: 4px;\n",
       "    line-height: 19px;\n",
       "  }\n",
       "</style>"
      ]
     },
     "metadata": {
      "application/vnd.databricks.v1+output": {
       "arguments": {},
       "data": "",
       "errorSummary": "",
       "errorTraceType": null,
       "metadata": {},
       "type": "ipynbError"
      }
     },
     "output_type": "display_data"
    }
   ],
   "source": [
    "sc.setJobDescription(\"Step E: Induce Spill w/Big DataFrame\")\n",
    "\n",
    "bigDF = initialDF\n",
    "\n",
    "for i in range(0, 7):\n",
    "  bigDF = bigDF.union(bigDF).repartition(sc.defaultParallelism)\n",
    "\n",
    "bigDF.write.format(\"noop\").mode(\"overwrite\").save()"
   ]
  },
  {
   "cell_type": "code",
   "execution_count": 0,
   "metadata": {
    "application/vnd.databricks.v1+cell": {
     "cellMetadata": {
      "byteLimit": 2048000,
      "rowLimit": 10000
     },
     "inputWidgets": {},
     "nuid": "eb52688e-bc22-4938-929f-329f24556aa0",
     "showTitle": false,
     "title": ""
    }
   },
   "outputs": [
    {
     "output_type": "display_data",
     "data": {
      "text/html": [
       "<style scoped>\n",
       "  .table-result-container {\n",
       "    max-height: 300px;\n",
       "    overflow: auto;\n",
       "  }\n",
       "  table, th, td {\n",
       "    border: 1px solid black;\n",
       "    border-collapse: collapse;\n",
       "  }\n",
       "  th, td {\n",
       "    padding: 5px;\n",
       "  }\n",
       "  th {\n",
       "    text-align: left;\n",
       "  }\n",
       "</style><div class='table-result-container'><table class='table-result'><thead style='background-color: white'><tr><th>start</th><th>Device</th><th>count</th></tr></thead><tbody><tr><td>2015-02-23T10:36:20Z</td><td>nexus4_1</td><td>3970</td></tr><tr><td>2015-02-23T10:37:00Z</td><td>nexus4_2</td><td>3972</td></tr><tr><td>2015-02-23T10:35:00Z</td><td>nexus4_2</td><td>3973</td></tr><tr><td>2015-02-23T10:36:40Z</td><td>nexus4_2</td><td>3905</td></tr><tr><td>2015-02-23T10:36:20Z</td><td>nexus4_2</td><td>3971</td></tr><tr><td>2015-02-23T10:36:40Z</td><td>nexus4_1</td><td>3972</td></tr><tr><td>2015-02-23T10:35:40Z</td><td>nexus4_1</td><td>3972</td></tr><tr><td>2015-02-23T10:34:20Z</td><td>nexus4_1</td><td>1617</td></tr><tr><td>2015-02-23T10:37:20Z</td><td>nexus4_2</td><td>3972</td></tr><tr><td>2015-02-23T10:37:20Z</td><td>nexus4_1</td><td>3968</td></tr><tr><td>2015-02-23T10:37:40Z</td><td>nexus4_1</td><td>941</td></tr><tr><td>2015-02-23T10:35:40Z</td><td>nexus4_2</td><td>3973</td></tr><tr><td>2015-02-23T10:35:00Z</td><td>nexus4_1</td><td>3969</td></tr><tr><td>2015-02-23T10:34:20Z</td><td>nexus4_2</td><td>2731</td></tr><tr><td>2015-02-23T10:36:00Z</td><td>nexus4_2</td><td>3970</td></tr><tr><td>2015-02-23T10:37:40Z</td><td>nexus4_2</td><td>938</td></tr><tr><td>2015-02-23T10:37:00Z</td><td>nexus4_1</td><td>3968</td></tr><tr><td>2015-02-23T10:36:00Z</td><td>nexus4_1</td><td>1927</td></tr><tr><td>2015-02-23T10:35:20Z</td><td>nexus4_2</td><td>3969</td></tr><tr><td>2015-02-23T10:35:20Z</td><td>nexus4_1</td><td>3033</td></tr><tr><td>2015-02-23T10:34:40Z</td><td>nexus4_2</td><td>3968</td></tr><tr><td>2015-02-23T10:34:40Z</td><td>nexus4_1</td><td>3199</td></tr></tbody></table></div>"
      ]
     },
     "metadata": {
      "application/vnd.databricks.v1+output": {
       "addedWidgets": {},
       "aggData": [],
       "aggError": "",
       "aggOverflow": false,
       "aggSchema": [],
       "aggSeriesLimitReached": false,
       "aggType": "",
       "arguments": {},
       "columnCustomDisplayInfos": {},
       "data": [
        [
         "2015-02-23T10:36:20Z",
         "nexus4_1",
         3970
        ],
        [
         "2015-02-23T10:37:00Z",
         "nexus4_2",
         3972
        ],
        [
         "2015-02-23T10:35:00Z",
         "nexus4_2",
         3973
        ],
        [
         "2015-02-23T10:36:40Z",
         "nexus4_2",
         3905
        ],
        [
         "2015-02-23T10:36:20Z",
         "nexus4_2",
         3971
        ],
        [
         "2015-02-23T10:36:40Z",
         "nexus4_1",
         3972
        ],
        [
         "2015-02-23T10:35:40Z",
         "nexus4_1",
         3972
        ],
        [
         "2015-02-23T10:34:20Z",
         "nexus4_1",
         1617
        ],
        [
         "2015-02-23T10:37:20Z",
         "nexus4_2",
         3972
        ],
        [
         "2015-02-23T10:37:20Z",
         "nexus4_1",
         3968
        ],
        [
         "2015-02-23T10:37:40Z",
         "nexus4_1",
         941
        ],
        [
         "2015-02-23T10:35:40Z",
         "nexus4_2",
         3973
        ],
        [
         "2015-02-23T10:35:00Z",
         "nexus4_1",
         3969
        ],
        [
         "2015-02-23T10:34:20Z",
         "nexus4_2",
         2731
        ],
        [
         "2015-02-23T10:36:00Z",
         "nexus4_2",
         3970
        ],
        [
         "2015-02-23T10:37:40Z",
         "nexus4_2",
         938
        ],
        [
         "2015-02-23T10:37:00Z",
         "nexus4_1",
         3968
        ],
        [
         "2015-02-23T10:36:00Z",
         "nexus4_1",
         1927
        ],
        [
         "2015-02-23T10:35:20Z",
         "nexus4_2",
         3969
        ],
        [
         "2015-02-23T10:35:20Z",
         "nexus4_1",
         3033
        ],
        [
         "2015-02-23T10:34:40Z",
         "nexus4_2",
         3968
        ],
        [
         "2015-02-23T10:34:40Z",
         "nexus4_1",
         3199
        ]
       ],
       "datasetInfos": [],
       "dbfsResultPath": null,
       "isJsonSchema": true,
       "metadata": {
        "isDbfsCommandResult": false
       },
       "overflow": false,
       "plotOptions": {
        "customPlotOptions": {},
        "displayType": "table",
        "pivotAggregation": null,
        "pivotColumns": null,
        "xColumns": null,
        "yColumns": null
       },
       "removedWidgets": [],
       "schema": [
        {
         "metadata": "{}",
         "name": "start",
         "type": "\"timestamp\""
        },
        {
         "metadata": "{}",
         "name": "Device",
         "type": "\"string\""
        },
        {
         "metadata": "{}",
         "name": "count",
         "type": "\"long\""
        }
       ],
       "type": "table"
      }
     },
     "output_type": "display_data"
    },
    {
     "output_type": "display_data",
     "data": {
      "text/html": [
       "<style scoped>\n",
       "  .ansiout {\n",
       "    display: block;\n",
       "    unicode-bidi: embed;\n",
       "    white-space: pre-wrap;\n",
       "    word-wrap: break-word;\n",
       "    word-break: break-all;\n",
       "    font-family: \"Menlo\", \"Monaco\", \"Consolas\", \"Ubuntu Mono\", \"Source Code Pro\", monospace;\n",
       "    font-size: 13px;\n",
       "    color: #555;\n",
       "    margin-left: 4px;\n",
       "    line-height: 19px;\n",
       "  }\n",
       "</style>"
      ]
     },
     "metadata": {
      "application/vnd.databricks.v1+output": {
       "arguments": {},
       "data": "",
       "errorSummary": "",
       "errorTraceType": null,
       "metadata": {},
       "type": "ipynbError"
      }
     },
     "output_type": "display_data"
    }
   ],
   "source": [
    "sc.setJobDescription(\"Step F: Streaming Job\")\n",
    "\n",
    "from pyspark.sql.functions import window, col\n",
    "spark.conf.set(\"spark.sql.shuffle.partitions\", sc.defaultParallelism)\n",
    "\n",
    "dataPath = \"wasbs://spark-ui-simulator@dbacademy.blob.core.windows.net/definitive-guide/data/activity-data-stream.json\"\n",
    "dataSchema = \"Recorded_At timestamp, Device string, Index long, Model string, User string, _corrupt_record String, gt string, x double, y double, z double\"\n",
    "\n",
    "streamingDF = (spark\n",
    "  .readStream\n",
    "  .option(\"maxFilesPerTrigger\", 1)\n",
    "  .schema(dataSchema)\n",
    "  .json(dataPath)\n",
    "  .groupBy(col(\"Device\"), window(col(\"Recorded_At\"), \"20 seconds\"))\n",
    "  .count()\n",
    "  .select(col(\"window.start\").alias(\"start\"), col(\"Device\"), col(\"count\"))\n",
    ")\n",
    "display(streamingDF, streamName = \"Sample_Stream\")"
   ]
  },
  {
   "cell_type": "code",
   "execution_count": 0,
   "metadata": {
    "application/vnd.databricks.v1+cell": {
     "cellMetadata": {
      "byteLimit": 2048000,
      "rowLimit": 10000
     },
     "inputWidgets": {},
     "nuid": "d2924465-ee2d-4d25-950f-30549a80e07a",
     "showTitle": false,
     "title": ""
    }
   },
   "outputs": [
    {
     "output_type": "display_data",
     "data": {
      "text/html": [
       "<style scoped>\n",
       "  .ansiout {\n",
       "    display: block;\n",
       "    unicode-bidi: embed;\n",
       "    white-space: pre-wrap;\n",
       "    word-wrap: break-word;\n",
       "    word-break: break-all;\n",
       "    font-family: \"Menlo\", \"Monaco\", \"Consolas\", \"Ubuntu Mono\", \"Source Code Pro\", monospace;\n",
       "    font-size: 13px;\n",
       "    color: #555;\n",
       "    margin-left: 4px;\n",
       "    line-height: 19px;\n",
       "  }\n",
       "</style>"
      ]
     },
     "metadata": {
      "application/vnd.databricks.v1+output": {
       "arguments": {},
       "data": "",
       "errorSummary": "",
       "errorTraceType": null,
       "metadata": {},
       "type": "ipynbError"
      }
     },
     "output_type": "display_data"
    }
   ],
   "source": [
    "sc.setJobDescription(\"Step G: Stop All Streams\")\n",
    "import time\n",
    "\n",
    "# Let the stream run for 15 seconds\n",
    "time.sleep(30) \n",
    "\n",
    "for stream in spark.streams.active:\n",
    "    stream.stop()"
   ]
  },
  {
   "cell_type": "code",
   "execution_count": 0,
   "metadata": {
    "application/vnd.databricks.v1+cell": {
     "cellMetadata": {
      "byteLimit": 2048000,
      "rowLimit": 10000
     },
     "inputWidgets": {},
     "nuid": "faa4c6a8-22fb-48f2-a98d-d018f328eb14",
     "showTitle": false,
     "title": ""
    }
   },
   "outputs": [
    {
     "output_type": "display_data",
     "data": {
      "text/html": [
       "<style scoped>\n",
       "  .ansiout {\n",
       "    display: block;\n",
       "    unicode-bidi: embed;\n",
       "    white-space: pre-wrap;\n",
       "    word-wrap: break-word;\n",
       "    word-break: break-all;\n",
       "    font-family: \"Menlo\", \"Monaco\", \"Consolas\", \"Ubuntu Mono\", \"Source Code Pro\", monospace;\n",
       "    font-size: 13px;\n",
       "    color: #555;\n",
       "    margin-left: 4px;\n",
       "    line-height: 19px;\n",
       "  }\n",
       "</style>"
      ]
     },
     "metadata": {
      "application/vnd.databricks.v1+output": {
       "arguments": {},
       "data": "",
       "errorSummary": "",
       "errorTraceType": null,
       "metadata": {},
       "type": "ipynbError"
      }
     },
     "output_type": "display_data"
    }
   ],
   "source": [
    "sc.setJobDescription(\"Step H: 100 GB Delta IO Cache\")\n",
    "from pyspark.sql.functions import xxhash64, col\n",
    "\n",
    "# Source dataset is about ~800 partitions, 900 is safe\n",
    "spark.conf.set(\"spark.sql.shuffle.partitions\", 900)\n",
    "\n",
    "transactions_df = spark.read.load(\"wasbs://spark-ui-simulator@dbacademy.blob.core.windows.net/global-sales/transactions/2011-to-2018-100gb.delta\")\n",
    "\n",
    "# Artificailly materialize DBIO cache\n",
    "transactions_df.write.format(\"noop\").mode(\"overwrite\").save() "
   ]
  },
  {
   "cell_type": "code",
   "execution_count": 0,
   "metadata": {
    "application/vnd.databricks.v1+cell": {
     "cellMetadata": {
      "byteLimit": 2048000,
      "rowLimit": 10000
     },
     "inputWidgets": {},
     "nuid": "43eca295-620f-4abd-bbc4-193660a94fe1",
     "showTitle": false,
     "title": ""
    }
   },
   "outputs": [
    {
     "output_type": "display_data",
     "data": {
      "text/html": [
       "<style scoped>\n",
       "  .ansiout {\n",
       "    display: block;\n",
       "    unicode-bidi: embed;\n",
       "    white-space: pre-wrap;\n",
       "    word-wrap: break-word;\n",
       "    word-break: break-all;\n",
       "    font-family: \"Menlo\", \"Monaco\", \"Consolas\", \"Ubuntu Mono\", \"Source Code Pro\", monospace;\n",
       "    font-size: 13px;\n",
       "    color: #555;\n",
       "    margin-left: 4px;\n",
       "    line-height: 19px;\n",
       "  }\n",
       "</style>"
      ]
     },
     "metadata": {
      "application/vnd.databricks.v1+output": {
       "arguments": {},
       "data": "",
       "errorSummary": "",
       "errorTraceType": null,
       "metadata": {},
       "type": "ipynbError"
      }
     },
     "output_type": "display_data"
    }
   ],
   "source": [
    "sc.setJobDescription(\"Step I: 100 GB Join\")\n",
    "\n",
    "columns = filter(lambda f: not f == \"city_id\", transactions_df.columns)\n",
    "for column in columns:\n",
    "  transactions_df = transactions_df.withColumn(f\"{column}-hash\", xxhash64(column))\n",
    "\n",
    "cities_df = spark.read.load(\"wasbs://spark-ui-simulator@dbacademy.blob.core.windows.net/global-sales/cities/all.delta\")\n",
    "\n",
    "columns = filter(lambda f: not f == \"city_id\", cities_df.columns)\n",
    "for column in columns:\n",
    "  cities_df = cities_df.withColumn(f\"{column}-hash\", xxhash64(col(column)))\n",
    "\n",
    "joined_df = (transactions_df\n",
    "  .join(cities_df, \"city_id\")\n",
    "  .withColumn(\"city_id-hash\", xxhash64(\"city_id\"))\n",
    "  .orderBy(\"amount\")\n",
    "  .write.format(\"noop\").mode(\"overwrite\").save()\n",
    ")"
   ]
  }
 ],
 "metadata": {
  "application/vnd.databricks.v1+notebook": {
   "dashboards": [],
   "language": "python",
   "notebookMetadata": {
    "pythonIndentUnit": 4
   },
   "notebookName": "0000 Introduction to the Course",
   "widgets": {}
  }
 },
 "nbformat": 4,
 "nbformat_minor": 0
}
